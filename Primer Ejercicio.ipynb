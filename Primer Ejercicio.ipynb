{
    "cells": [
        {
            "cell_type": "markdown",
            "metadata": {},
            "source": "# Esto es una prueba\nMe va ir mal jeje"
        },
        {
            "cell_type": "code",
            "execution_count": 1,
            "metadata": {},
            "outputs": [
                {
                    "data": {
                        "text/html": "<div>\n<style scoped>\n    .dataframe tbody tr th:only-of-type {\n        vertical-align: middle;\n    }\n\n    .dataframe tbody tr th {\n        vertical-align: top;\n    }\n\n    .dataframe thead th {\n        text-align: right;\n    }\n</style>\n<table border=\"1\" class=\"dataframe\">\n  <thead>\n    <tr style=\"text-align: right;\">\n      <th></th>\n      <th>type</th>\n      <th>name</th>\n      <th>label</th>\n      <th>hint</th>\n      <th>required</th>\n      <th>relevant</th>\n      <th>calculation</th>\n    </tr>\n  </thead>\n  <tbody>\n    <tr>\n      <th>0</th>\n      <td>start</td>\n      <td>start</td>\n      <td>NaN</td>\n      <td>NaN</td>\n      <td>NaN</td>\n      <td>NaN</td>\n      <td>NaN</td>\n    </tr>\n    <tr>\n      <th>1</th>\n      <td>end</td>\n      <td>end</td>\n      <td>NaN</td>\n      <td>NaN</td>\n      <td>NaN</td>\n      <td>NaN</td>\n      <td>NaN</td>\n    </tr>\n    <tr>\n      <th>2</th>\n      <td>acknowledge</td>\n      <td>Vamos_a_realizar_una_encuesta_</td>\n      <td>Vamos a realizar una encuesta para valorar los...</td>\n      <td>NaN</td>\n      <td>True</td>\n      <td>NaN</td>\n      <td>NaN</td>\n    </tr>\n    <tr>\n      <th>3</th>\n      <td>text</td>\n      <td>Nombre_del_encuestador</td>\n      <td>Nombre del encuestador:</td>\n      <td>NaN</td>\n      <td>True</td>\n      <td>NaN</td>\n      <td>NaN</td>\n    </tr>\n    <tr>\n      <th>4</th>\n      <td>begin_group</td>\n      <td>Lugar_fecha</td>\n      <td>Lugar y fecha de realizaci\u00f3n de la encuesta</td>\n      <td>NaN</td>\n      <td>NaN</td>\n      <td>NaN</td>\n      <td>NaN</td>\n    </tr>\n  </tbody>\n</table>\n</div>",
                        "text/plain": "          type                            name  \\\n0        start                           start   \n1          end                             end   \n2  acknowledge  Vamos_a_realizar_una_encuesta_   \n3         text          Nombre_del_encuestador   \n4  begin_group                     Lugar_fecha   \n\n                                               label hint required relevant  \\\n0                                                NaN  NaN      NaN      NaN   \n1                                                NaN  NaN      NaN      NaN   \n2  Vamos a realizar una encuesta para valorar los...  NaN     True      NaN   \n3                            Nombre del encuestador:  NaN     True      NaN   \n4        Lugar y fecha de realizaci\u00f3n de la encuesta  NaN      NaN      NaN   \n\n  calculation  \n0         NaN  \n1         NaN  \n2         NaN  \n3         NaN  \n4         NaN  "
                    },
                    "execution_count": 1,
                    "metadata": {},
                    "output_type": "execute_result"
                }
            ],
            "source": "# The code was removed by Watson Studio for sharing."
        },
        {
            "cell_type": "code",
            "execution_count": null,
            "metadata": {},
            "outputs": [],
            "source": ""
        }
    ],
    "metadata": {
        "kernelspec": {
            "display_name": "Python 3.6",
            "language": "python",
            "name": "python3"
        },
        "language_info": {
            "codemirror_mode": {
                "name": "ipython",
                "version": 3
            },
            "file_extension": ".py",
            "mimetype": "text/x-python",
            "name": "python",
            "nbconvert_exporter": "python",
            "pygments_lexer": "ipython3",
            "version": "3.6.9"
        }
    },
    "nbformat": 4,
    "nbformat_minor": 1
}